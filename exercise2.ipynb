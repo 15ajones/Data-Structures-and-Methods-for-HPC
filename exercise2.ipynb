{
 "cells": [
  {
   "cell_type": "code",
   "execution_count": null,
   "metadata": {},
   "outputs": [],
   "source": [
    "#Task 2.1\n",
    "#The file JuliaSet_test.py includes a unit test that the output of calc_pure_python(desired_width=10000, max_iterations=300) is 33219980\n",
    "#The test is run by the following command:\n",
    "!pytest JuliaSet_test.py"
   ]
  },
  {
   "cell_type": "markdown",
   "metadata": {},
   "source": [
    "Task 2.2\n",
    "To run the unit test with different number of iterations and grid points, we can parameterise the test using @pytest.mark.parameterise\n",
    "We first declare the \"argnames' - a comma-seperated string which gives the argument names, and a name for the output of the function\n",
    "Then, we can declare an 'argvalues' - a list of tuples of inputs and their corresponding expected value.\n",
    "Then, using the pytest.mark.paramterize decorator, we can call the function calc_pure_python multiple times, using different these didferent inputs, and asserting that the function returns the corresponding expected output.\n",
    "The file JuliaSet_parameterized_test.py shows an example of this method of testing.\n",
    "The tests can be run using the following command:\n",
    "!pytest JuliaSet_parameterized_test.py\n",
    "\n"
   ]
  },
  {
   "cell_type": "markdown",
   "metadata": {},
   "source": [
    "Task 4\n",
    "Compared to other debugging techniques without using a debugger (such as using print statements), a debugger provides much more insight into a program.\n",
    "\n",
    "A main advantage is that with print statements, the amount of information you gather about the program is determined by the print statements you add to the program before you run it. Using the debugger, you can access whatever information you decide you want to see, throughout the execution of the program. For example, you can view the value of every single variable after each line is executed. To do this using print statement, you'd need to to insert a print statement for each variable after each line in the program, which can take a lot of time. Using a debugger allows you to view all of this information clearly without needing to do any work before.\n",
    "\n",
    "A second advantage is that you must understand the program at a fundamental level before you add print statements, so you know what information to print. With a debugger, using the commands step, next and list, you can learn about the execution of a program and figure out what information you need at the time.\n",
    "\n",
    "The only slight complication we found with learning how to use the debugger, was understanding the difference between the step and next commands, however a small amount of experimentation helped us understand that a next command moves into the next line of the function we are currently in, but a step function can move into the first line of a function called by the function we are currently in."
   ]
  }
 ],
 "metadata": {
  "language_info": {
   "name": "python"
  }
 },
 "nbformat": 4,
 "nbformat_minor": 2
}
