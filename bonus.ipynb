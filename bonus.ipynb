{
 "cells": [
  {
   "cell_type": "code",
   "execution_count": null,
   "metadata": {},
   "outputs": [],
   "source": [
    "\"\"\"\n",
    "Task B.1 Check the code with a linter, and in case, run an auto-formatter. Produce HTML documentation running sphinx.\n",
    "\"\"\"\n",
    "\n",
    "#To lint conway.py, the following command is run:\n",
    "!pip3 install pylint\n",
    "!pylint conway.py\n",
    "\n",
    "#We see that (before automatic formatting) there are some errors, where the code doesn't conform to standard. Initially the code has a rating of 6.05/10\n",
    "#We use blank to automatically format conway.py:\n",
    "!pip3 install black\n",
    "!black conway.py\n",
    "\n",
    "#Afterwards, we run pylint again and the score is now 7.76/10\n",
    "\n",
    "#To produce HTML documentation, we use Sphinx.\n",
    "#We first install sphinx:\n",
    "!pip3 install -U sphinx\n",
    "#Then, we go in the docs directory I created, and run the command: sphinx-quickstart (I have already done this)"
   ]
  },
  {
   "cell_type": "code",
   "execution_count": null,
   "metadata": {},
   "outputs": [],
   "source": [
    "\"\"\"\n",
    "Task B.2 Measure the execution time, varying the grid size (and fixed number of iterations). Make a plot with this information.\n",
    "\"\"\"\n",
    "# I created a file called conway_timing.py, which executes the same algorithm but is simplified. It doesn't produce an image for the iterations, and it always begins with a random grid, and has 100 iterations each time.\n",
    "# The file measures the execution of the algorithm for a range of grid sizes (i.e. the length (number of squares along the width, which is the same as the number of squares along the height)), increasing by 10 from 10 to 100, and \n",
    "# plots a graph of the length of time taken to execute (in seconds) against the grid size\n",
    "# To produce the graph, we run:\n",
    "!python3 conway_timing.py"
   ]
  }
 ],
 "metadata": {
  "language_info": {
   "name": "python"
  }
 },
 "nbformat": 4,
 "nbformat_minor": 2
}
