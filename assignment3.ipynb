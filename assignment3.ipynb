{
 "cells": [
  {
   "cell_type": "markdown",
   "metadata": {},
   "source": [
    "* **For which kind of problems do you use the BLAS libraries?**\n",
    "BLAS is a library useful for doing computations in a highly efficient manner. BLAS stands for Basic Linear Algebra Subprogram and is useful for HPC, for problems involving linear algebra. Such as matrix and vector operations. \n",
    "* **What is the difference between BLAS level-1, level-2 and level-3?**\n",
    "BLAS level-1 was limited to vector operations while level-2 covers matrix-vector operations and level-3 matrix-matrix operations. [Source](https://en.wikipedia.org/wiki/Basic_Linear_Algebra_Subprograms)\n"
   ]
  },
  {
   "cell_type": "code",
   "execution_count": null,
   "metadata": {},
   "outputs": [],
   "source": [
    "!pip3 install numpy\n",
    "# Install numpy"
   ]
  },
  {
   "cell_type": "code",
   "execution_count": null,
   "metadata": {},
   "outputs": [],
   "source": [
    "import numpy as np\n",
    "\n",
    "# This function is tested in `assignment3_test.py`\n",
    "# DGEMM\n",
    "def dgemm(A, B, C, N):\n",
    "    for i in range(0, N):\n",
    "        for j in range(0, N):\n",
    "            for k in range(0, N):\n",
    "                C[i][j] = C[i][j] + (A[i][k] * B[k][j])\n",
    "    return C"
   ]
  },
  {
   "cell_type": "code",
   "execution_count": null,
   "metadata": {},
   "outputs": [],
   "source": [
    "# Required for running assignment3_test.py\n",
    "!pip3 install pytest\n",
    "!pip3 install timeit"
   ]
  },
  {
   "cell_type": "code",
   "execution_count": null,
   "metadata": {},
   "outputs": [],
   "source": [
    "!python3 -m pytest assignment3_test.py\n",
    "# Runs 4 small test cases, comparing the naive method with Numpy:s matmul and an addition. "
   ]
  },
  {
   "cell_type": "markdown",
   "metadata": {},
   "source": [
    "Measuring the time taken (seconds) for various sizes of N: 50, 100, 200, 400\n",
    "n=5\n",
    "N = 50:\n",
    "Naive: avg =  0.09256768360005481  std =  0.0285303740605988\n",
    "BLAS: avg =  6.0847600070701444e-05  std =  1.9838649649645852e-05\n",
    "Speedup factor:  1521.3037735670173\n",
    "N = 100: \n",
    "Naive: avg =  0.7735909592000553  std =  0.016646940289186903\n",
    "BLAS: avg =  0.00029435099995680505  std =  0.00033677663235627997\n",
    "Speedup factor:  2628.1241079988754\n",
    "N = 200:\n",
    "Naive: avg =  5.82681806680007  std =  0.2056159794909149\n",
    "BLAS: avg =  0.0008499638000557752  std =  0.0006202690933478322\n",
    "Speedup factor:  6855.372036335794\n",
    "N = 400: \n",
    "Naive: avg =  43.045335442399846  std =  0.21496990629842777\n",
    "BLAS: avg =  0.002158740799950465  std =  0.0008921325184055207\n",
    "Speedup factor:  19940.02033193961"
   ]
  },
  {
   "cell_type": "code",
   "execution_count": null,
   "metadata": {},
   "outputs": [],
   "source": [
    "!python3 assignment3_test.py 50 5"
   ]
  },
  {
   "cell_type": "code",
   "execution_count": null,
   "metadata": {},
   "outputs": [],
   "source": [
    "!python3 assignment3_test.py 100 5"
   ]
  },
  {
   "cell_type": "code",
   "execution_count": null,
   "metadata": {},
   "outputs": [],
   "source": [
    "!python3 assignment3_test.py 200 5"
   ]
  },
  {
   "cell_type": "code",
   "execution_count": null,
   "metadata": {},
   "outputs": [],
   "source": [
    "!python3 assignment3_test.py 400 5\n",
    "# Execution might take several minutes"
   ]
  }
 ],
 "metadata": {
  "language_info": {
   "name": "python"
  }
 },
 "nbformat": 4,
 "nbformat_minor": 2
}
