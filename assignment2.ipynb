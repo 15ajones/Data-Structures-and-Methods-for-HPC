{
 "cells": [
  {
   "cell_type": "code",
   "execution_count": 3,
   "metadata": {},
   "outputs": [
    {
     "name": "stdout",
     "output_type": "stream",
     "text": [
      "\u001b[1m============================= test session starts ==============================\u001b[0m\n",
      "platform darwin -- Python 3.10.0, pytest-8.0.0, pluggy-1.4.0\n",
      "rootdir: /Users/15ajones0201/Desktop/Thesis/repos/Data-Structures-and-Methods-for-HPC\n",
      "plugins: anyio-4.1.0\n",
      "collected 1 item                                                               \u001b[0m\n",
      "\n",
      "JuliaSet_test.py ^C\n"
     ]
    }
   ],
   "source": [
    "#Task 2.1\n",
    "#The file JuliaSet_test.py includes a unit test that the output of calc_pure_python(desired_width=10000, max_iterations=300) is 33219980\n",
    "#The test is run by the following command:\n",
    "!pytest JuliaSet_test.py"
   ]
  },
  {
   "cell_type": "markdown",
   "metadata": {},
   "source": [
    "Task 2.2\n",
    "To run the unit test with different number of iterations and grid points, we can parameterise the test using @pytest.mark.parameterise\n",
    "We first declare the \"argnames' - a comma-seperated string which gives the argument names, and a name for the output of the function\n",
    "Then, we can declare an 'argvalues' - a list of tuples of inputs and their corresponding expected value.\n",
    "Then, using the pytest.mark.paramterize decorator, we can call the function calc_pure_python multiple times, using different these didferent inputs, and asserting that the function returns the corresponding expected output.\n",
    "The file JuliaSet_parameterized_test.py shows an example of this method of testing.\n",
    "The tests can be run using the following command:\n",
    "!pytest JuliaSet_parameterized_test.py\n",
    "\n"
   ]
  },
  {
   "cell_type": "code",
   "execution_count": 8,
   "metadata": {},
   "outputs": [
    {
     "name": "stdout",
     "output_type": "stream",
     "text": [
      "\u001b[1m============================= test session starts ==============================\u001b[0m\n",
      "platform darwin -- Python 3.10.0, pytest-8.0.0, pluggy-1.4.0\n",
      "rootdir: /Users/15ajones0201/Desktop/Thesis/repos/Data-Structures-and-Methods-for-HPC\n",
      "plugins: anyio-4.1.0\n",
      "collected 2 items                                                              \u001b[0m\n",
      "\n",
      "JuliaSet_parameterized_test.py \u001b[32m.\u001b[0m\u001b[32m.\u001b[0m\u001b[32m                                        [100%]\u001b[0m\n",
      "\n",
      "\u001b[32m============================== \u001b[32m\u001b[1m2 passed\u001b[0m\u001b[32m in 1.54s\u001b[0m\u001b[32m ===============================\u001b[0m\n"
     ]
    }
   ],
   "source": [
    "!pytest JuliaSet_parameterized_test.py"
   ]
  },
  {
   "cell_type": "markdown",
   "metadata": {},
   "source": [
    "# Task 3"
   ]
  },
  {
   "cell_type": "markdown",
   "metadata": {},
   "source": [
    "* **For which kind of problems do you use the BLAS libraries?**\n",
    "BLAS is a library useful for doing computations in a highly efficient manner. BLAS stands for Basic Linear Algebra Subprogram and is useful for HPC, for problems involving linear algebra. Such as matrix and vector operations. \n",
    "* **What is the difference between BLAS level-1, level-2 and level-3?**\n",
    "BLAS level-1 was limited to vector operations while level-2 covers matrix-vector operations and level-3 matrix-matrix operations. [Source](https://en.wikipedia.org/wiki/Basic_Linear_Algebra_Subprograms)\n"
   ]
  },
  {
   "cell_type": "code",
   "execution_count": null,
   "metadata": {},
   "outputs": [],
   "source": [
    "!pip3 install numpy\n",
    "# Install numpy"
   ]
  },
  {
   "cell_type": "code",
   "execution_count": null,
   "metadata": {},
   "outputs": [],
   "source": [
    "import numpy as np\n",
    "\n",
    "# This function is tested in `assignment3_test.py`\n",
    "# DGEMM\n",
    "def dgemm(A, B, C, N):\n",
    "    for i in range(0, N):\n",
    "        for j in range(0, N):\n",
    "            for k in range(0, N):\n",
    "                C[i][j] = C[i][j] + (A[i][k] * B[k][j])\n",
    "    return C"
   ]
  },
  {
   "cell_type": "code",
   "execution_count": null,
   "metadata": {},
   "outputs": [],
   "source": [
    "# Required for running assignment3_test.py\n",
    "!pip3 install pytest\n",
    "!pip3 install timeit"
   ]
  },
  {
   "cell_type": "code",
   "execution_count": null,
   "metadata": {},
   "outputs": [],
   "source": [
    "!python3 -m pytest assignment3_test.py\n",
    "# Runs 4 small test cases, comparing the naive method with Numpy:s matmul and an addition. "
   ]
  },
  {
   "cell_type": "markdown",
   "metadata": {},
   "source": [
    "Measuring the time taken (seconds) for various sizes of N: 50, 100, 200, 400\n",
    "n=5\n",
    "N = 50:\n",
    "Naive: avg =  0.09256768360005481  std =  0.0285303740605988\n",
    "BLAS: avg =  6.0847600070701444e-05  std =  1.9838649649645852e-05\n",
    "Speedup factor:  1521.3037735670173\n",
    "N = 100: \n",
    "Naive: avg =  0.7735909592000553  std =  0.016646940289186903\n",
    "BLAS: avg =  0.00029435099995680505  std =  0.00033677663235627997\n",
    "Speedup factor:  2628.1241079988754\n",
    "N = 200:\n",
    "Naive: avg =  5.82681806680007  std =  0.2056159794909149\n",
    "BLAS: avg =  0.0008499638000557752  std =  0.0006202690933478322\n",
    "Speedup factor:  6855.372036335794\n",
    "N = 400: \n",
    "Naive: avg =  43.045335442399846  std =  0.21496990629842777\n",
    "BLAS: avg =  0.002158740799950465  std =  0.0008921325184055207\n",
    "Speedup factor:  19940.02033193961\n",
    "\n",
    "These tests were performed on a laptop with an Intel i5 1035g4 CPU. It has a maximum boost clock rate of 3.7GHz. \n",
    "\n",
    "The naive method should have N\\*N\\*N\\*2 computations, for N=400, 128_000_000. The mean computation time was 43.05s, meaning 2_973_287 FLOPS/s was observed. Assuming that the boost could be active for the entire duration, in theory, 3_700_000_000 FLOPS could be possible. "
   ]
  },
  {
   "cell_type": "markdown",
   "metadata": {},
   "source": [
    "The following commands run both the naive and BLAS functions. It also compares their performance and displays the speedup from using Numpy:s matmul function. "
   ]
  },
  {
   "cell_type": "code",
   "execution_count": null,
   "metadata": {},
   "outputs": [],
   "source": [
    "!python3 assignment3_test.py 50 5"
   ]
  },
  {
   "cell_type": "code",
   "execution_count": null,
   "metadata": {},
   "outputs": [],
   "source": [
    "!python3 assignment3_test.py 100 5"
   ]
  },
  {
   "cell_type": "code",
   "execution_count": null,
   "metadata": {},
   "outputs": [],
   "source": [
    "!python3 assignment3_test.py 200 5"
   ]
  },
  {
   "cell_type": "code",
   "execution_count": null,
   "metadata": {},
   "outputs": [],
   "source": [
    "!python3 assignment3_test.py 400 5\n",
    "# Execution might take several minutes"
   ]
  },
  {
   "cell_type": "markdown",
   "metadata": {},
   "source": [
    "Task 4\n",
    "Compared to other debugging techniques without using a debugger (such as using print statements), a debugger provides much more insight into a program.\n",
    "\n",
    "A main advantage is that with print statements, the amount of information you gather about the program is determined by the print statements you add to the program before you run it. Using the debugger, you can access whatever information you decide you want to see, throughout the execution of the program. For example, you can view the value of every single variable after each line is executed. To do this using print statement, you'd need to to insert a print statement for each variable after each line in the program, which can take a lot of time. Using a debugger allows you to view all of this information clearly without needing to do any work before.\n",
    "\n",
    "A second advantage is that you must understand the program at a fundamental level before you add print statements, so you know what information to print. With a debugger, using the commands step, next and list, you can learn about the execution of a program and figure out what information you need at the time.\n",
    "\n",
    "The only slight complication we found with learning how to use the debugger, was understanding the difference between the step and next commands, however a small amount of experimentation helped us understand that a next command moves into the next line of the function we are currently in, but a step function can move into the first line of a function called by the function we are currently in."
   ]
  }
 ],
 "metadata": {
  "kernelspec": {
   "display_name": "Python 3",
   "language": "python",
   "name": "python3"
  },
  "language_info": {
   "codemirror_mode": {
    "name": "ipython",
    "version": 3
   },
   "file_extension": ".py",
   "mimetype": "text/x-python",
   "name": "python",
   "nbconvert_exporter": "python",
   "pygments_lexer": "ipython3",
   "version": "3.10.0"
  }
 },
 "nbformat": 4,
 "nbformat_minor": 2
}
